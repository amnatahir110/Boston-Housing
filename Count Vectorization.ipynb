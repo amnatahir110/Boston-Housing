{
 "cells": [
  {
   "cell_type": "code",
   "execution_count": 1,
   "id": "0857cbb1",
   "metadata": {},
   "outputs": [
    {
     "data": {
      "text/plain": [
       "['One Geek helps Two Geeks',\n",
       " 'Two Geeks help Four Geeks',\n",
       " 'Each Geek helps many other Geeks at GeeksforGeeks.']"
      ]
     },
     "execution_count": 1,
     "metadata": {},
     "output_type": "execute_result"
    }
   ],
   "source": [
    "from sklearn.feature_extraction.text import CountVectorizer\n",
    "Document = ['One Geek helps Two Geeks', \n",
    "            'Two Geeks help Four Geeks', \n",
    "            'Each Geek helps many other Geeks at GeeksforGeeks.']\n",
    "Document"
   ]
  },
  {
   "cell_type": "code",
   "execution_count": 2,
   "id": "58006823",
   "metadata": {},
   "outputs": [
    {
     "data": {
      "text/plain": [
       "CountVectorizer()"
      ]
     },
     "execution_count": 2,
     "metadata": {},
     "output_type": "execute_result"
    }
   ],
   "source": [
    "# Create a Vectorizer Object\n",
    "vectorizer = CountVectorizer()\n",
    "vectorizer.fit(Document)"
   ]
  },
  {
   "cell_type": "code",
   "execution_count": 3,
   "id": "cef1881d",
   "metadata": {},
   "outputs": [
    {
     "name": "stdout",
     "output_type": "stream",
     "text": [
      "Vocabulary:  {'one': 9, 'geek': 3, 'helps': 7, 'two': 11, 'geeks': 4, 'help': 6, 'four': 2, 'each': 1, 'many': 8, 'other': 10, 'at': 0, 'geeksforgeeks': 5}\n"
     ]
    }
   ],
   "source": [
    "# Printing the identified Unique words along with their indices\n",
    "print(\"Vocabulary: \", vectorizer.vocabulary_)"
   ]
  },
  {
   "cell_type": "code",
   "execution_count": 5,
   "id": "3fe1646b",
   "metadata": {},
   "outputs": [],
   "source": [
    "# Encode the Document\n",
    "vector = vectorizer.transform(Document)"
   ]
  },
  {
   "cell_type": "code",
   "execution_count": 6,
   "id": "f9fe82e2",
   "metadata": {},
   "outputs": [
    {
     "name": "stdout",
     "output_type": "stream",
     "text": [
      "Encoded Document is:\n",
      "[[0 0 0 1 1 0 0 1 0 1 0 1]\n",
      " [0 0 1 0 2 0 1 0 0 0 0 1]\n",
      " [1 1 0 1 1 1 0 1 1 0 1 0]]\n"
     ]
    }
   ],
   "source": [
    "# Summarizing the Encoded Texts\n",
    "print(\"Encoded Document is:\")\n",
    "print(vector.toarray())"
   ]
  },
  {
   "cell_type": "code",
   "execution_count": null,
   "id": "23925148",
   "metadata": {},
   "outputs": [],
   "source": []
  }
 ],
 "metadata": {
  "kernelspec": {
   "display_name": "Python 3",
   "language": "python",
   "name": "python3"
  },
  "language_info": {
   "codemirror_mode": {
    "name": "ipython",
    "version": 3
   },
   "file_extension": ".py",
   "mimetype": "text/x-python",
   "name": "python",
   "nbconvert_exporter": "python",
   "pygments_lexer": "ipython3",
   "version": "3.8.8"
  }
 },
 "nbformat": 4,
 "nbformat_minor": 5
}
